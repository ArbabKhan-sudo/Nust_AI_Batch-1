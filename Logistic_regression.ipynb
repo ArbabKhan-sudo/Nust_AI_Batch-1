{
  "cells": [
    {
      "cell_type": "markdown",
      "metadata": {
        "id": "view-in-github",
        "colab_type": "text"
      },
      "source": [
        "<a href=\"https://colab.research.google.com/github/ArbabKhan-sudo/Nust_AI_Batch-1/blob/main/Logistic_regression.ipynb\" target=\"_parent\"><img src=\"https://colab.research.google.com/assets/colab-badge.svg\" alt=\"Open In Colab\"/></a>"
      ]
    },
    {
      "cell_type": "markdown",
      "id": "497cd2b8",
      "metadata": {
        "id": "497cd2b8"
      },
      "source": [
        "# Logistics Regression"
      ]
    },
    {
      "cell_type": "code",
      "execution_count": null,
      "id": "9765d15c",
      "metadata": {
        "id": "9765d15c"
      },
      "outputs": [],
      "source": [
        "import numpy as np\n",
        "import pandas as pd\n",
        "from sklearn import metrics\n",
        "from sklearn.metrics import mean_absolute_error\n",
        "from sklearn.linear_model import LogisticRegression\n",
        "from sklearn.metrics import accuracy_score\n",
        "from sklearn.model_selection import train_test_split\n",
        "import scipy"
      ]
    },
    {
      "cell_type": "code",
      "execution_count": null,
      "id": "90f40376",
      "metadata": {
        "id": "90f40376"
      },
      "outputs": [],
      "source": [
        "def readData(file_name):\n",
        "    data =pd.read_csv(file_name)\n",
        "\n",
        "    X = data[['length', 'width']]\n",
        "    y = data['Type']\n",
        "    X = np.concatenate((np.ones((X.shape[0], 1)), X), axis=1)\n",
        "    return X, y\n"
      ]
    },
    {
      "cell_type": "code",
      "execution_count": null,
      "id": "7223d9c4",
      "metadata": {
        "id": "7223d9c4"
      },
      "outputs": [],
      "source": [
        "X, y = readData(\"dataset.csv\")"
      ]
    },
    {
      "cell_type": "code",
      "execution_count": null,
      "id": "4453f735",
      "metadata": {
        "id": "4453f735"
      },
      "outputs": [],
      "source": [
        "def LogisticRegressionmodel(X_train, X_test, y_train, y_test):\n",
        "    reg = LogisticRegression(random_state=0).fit(X_train, y_train)\n",
        "    reg.fit(X_train, y_train)\n",
        "    train_acc = reg.score(X_test, y_test)\n",
        "    test_acc = reg.score(X_test, y_test)\n",
        "    y_train_pred = reg.predict(X_train)\n",
        "    y_test_pred = reg.predict(X_test)\n",
        "    train_error = metrics.mean_absolute_error(y_train, y_train_pred)/1000\n",
        "    test_error = metrics.mean_absolute_error(y_test, y_test_pred)/1000\n",
        "    coef = reg.coef_\n",
        "    return test_acc, train_acc, train_error, test_error, coef"
      ]
    },
    {
      "cell_type": "code",
      "execution_count": null,
      "id": "9da693de",
      "metadata": {
        "id": "9da693de",
        "outputId": "dc059c89-ab21-4dfb-f1f3-fc4389436bf8"
      },
      "outputs": [
        {
          "name": "stdout",
          "output_type": "stream",
          "text": [
            "Test accuracy :  1.0 \n",
            " Train Accuracy:  1.0 \n",
            " Train error:  0.0 \n",
            "Test error :  0.0\n"
          ]
        }
      ],
      "source": [
        "X_train, X_test, y_train, y_test = train_test_split(X, y, test_size=0.2)\n",
        "test_acc, train_acc, train_error, test_erro, coef = LogisticRegressionmodel(X_train, X_test, y_train, y_test)\n",
        "print(\"Test accuracy : \", test_acc, \"\\n Train Accuracy: \", train_acc, \"\\n Train error: \", train_error, \"\\nTest error : \", test_erro)"
      ]
    },
    {
      "cell_type": "code",
      "execution_count": null,
      "id": "1f2d5bbe",
      "metadata": {
        "id": "1f2d5bbe"
      },
      "outputs": [],
      "source": []
    },
    {
      "cell_type": "code",
      "execution_count": null,
      "id": "bb83a9d5",
      "metadata": {
        "id": "bb83a9d5"
      },
      "outputs": [],
      "source": [
        "0"
      ]
    },
    {
      "cell_type": "code",
      "execution_count": null,
      "id": "215a8419",
      "metadata": {
        "id": "215a8419"
      },
      "outputs": [],
      "source": []
    }
  ],
  "metadata": {
    "kernelspec": {
      "display_name": "Python 3 (ipykernel)",
      "language": "python",
      "name": "python3"
    },
    "language_info": {
      "codemirror_mode": {
        "name": "ipython",
        "version": 3
      },
      "file_extension": ".py",
      "mimetype": "text/x-python",
      "name": "python",
      "nbconvert_exporter": "python",
      "pygments_lexer": "ipython3",
      "version": "3.10.9"
    },
    "colab": {
      "provenance": [],
      "include_colab_link": true
    }
  },
  "nbformat": 4,
  "nbformat_minor": 5
}